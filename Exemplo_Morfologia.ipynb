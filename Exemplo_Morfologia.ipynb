{
  "nbformat": 4,
  "nbformat_minor": 0,
  "metadata": {
    "colab": {
      "provenance": [],
      "include_colab_link": true
    },
    "kernelspec": {
      "name": "python3",
      "display_name": "Python 3"
    },
    "language_info": {
      "name": "python"
    }
  },
  "cells": [
    {
      "cell_type": "markdown",
      "metadata": {
        "id": "view-in-github",
        "colab_type": "text"
      },
      "source": [
        "<a href=\"https://colab.research.google.com/github/Fencolino/Atividade-Python-Github/blob/main/Exemplo_Morfologia.ipynb\" target=\"_parent\"><img src=\"https://colab.research.google.com/assets/colab-badge.svg\" alt=\"Open In Colab\"/></a>"
      ]
    },
    {
      "cell_type": "markdown",
      "source": [
        "Universidade do Vale do Itajaí<br>\n",
        "Escola do Mar, Ciência e Tecnologia<br>\n",
        "Professor Felipe Viel\n",
        "\n",
        "# Exemplo Morfologia\n",
        "\n",
        "### Tutoriais da OpenCV\n",
        "\n",
        "- https://docs.opencv.org/master/d9/df8/tutorial_root.html\n",
        "- https://www.geeksforgeeks.org/opencv-python-tutorial/"
      ],
      "metadata": {
        "id": "hs7F3RjrUjCH"
      }
    },
    {
      "cell_type": "code",
      "execution_count": null,
      "metadata": {
        "id": "9ieiSWN_Uh5b"
      },
      "outputs": [],
      "source": [
        "#from https://opencv-python-tutroals.readthedocs.io/en/latest/py_tutorials/py_imgproc/py_morphological_ops/py_morphological_ops.html\n",
        "import cv2 #Importação da biblioteca OpenCV\n",
        "import numpy as np #Importação da biblioteca numpy\n",
        "#caso for usar o Google Colab com a OpenCV, usar a lib abaixo\n",
        "from google.colab.patches import cv2_imshow #Importação das bibliotecas no google Colab\n",
        "\n",
        "\n"
      ]
    },
    {
      "cell_type": "code",
      "source": [
        "img = cv2.imread('j.png',0) # DECLARAÇÃO VARIAVEL img\n",
        "img_opening = cv2.imread('j_ruido.png',0) #DECLARAÇÃO VARIAVEL img_opening\n",
        "img_closing = cv2.imread('j_furos.png',0) #DECLARAÇÃO VARIAVEL img_closing\n",
        "altura, largura = img.shape #DECLARAÇÃO img.shape\n",
        "kernel = np.ones((5,5),np.uint8) #CRIAR MATRIZ 5 POR 5 E CHAMAR ELA DE karnel\n",
        "print(kernel) #DAR PRINT DA MATRIZ"
      ],
      "metadata": {
        "id": "8whvZbKhU03S"
      },
      "execution_count": null,
      "outputs": []
    },
    {
      "cell_type": "code",
      "source": [
        "erosion = cv2.erode(img,kernel,iterations = 2) #DECLARAÇÃO DA erosion DA IMAGEM\n",
        "dilation = cv2.dilate(img,kernel,iterations = 2) #DECLARAÇÃO DA dilation DA IMAGEM"
      ],
      "metadata": {
        "id": "RnKcRcjsU8VP"
      },
      "execution_count": null,
      "outputs": []
    },
    {
      "cell_type": "code",
      "source": [
        "gradient = cv2.morphologyEx(img, cv2.MORPH_GRADIENT, kernel) #DECLARAÇÃO DA gradient DA IMAGEM\n",
        "opening = cv2.morphologyEx(img_opening, cv2.MORPH_OPEN, kernel) #DECLARAÇÃO DA opening DA IMAGEM\n",
        "closing = cv2.morphologyEx(img_closing, cv2.MORPH_CLOSE, kernel) #DECLARAÇÃO DA closing DA IMAGEM"
      ],
      "metadata": {
        "id": "WvTtlQWJU-tz"
      },
      "execution_count": null,
      "outputs": []
    },
    {
      "cell_type": "code",
      "source": [
        "'''\n",
        "#Caso usa com Python no próprio computador\n",
        "cv2.imshow('in', img) #Demonstração da imagem normal\n",
        "cv2.imshow('erosion_out', erosion) #Demonstração da erosion da imagem\n",
        "cv2.imshow('dilation_out', dilation) #Demonstração da dilation da imagem\n",
        "cv2.imshow('opening_out', opening) #Opening da imagem\n",
        "cv2.imshow('closing_out', closing) #Closing da imagem\n",
        "cv2.imshow('gradient_out', gradient) #Gradient da imagem\n",
        "'''\n",
        "#Caso use o Google Colab\n",
        "cv2_imshow(img) #Demonstração da imagem normal\n",
        "cv2_imshow(erosion) #Demonstração da erosion da imagem\n",
        "cv2_imshow(dilation) #Demonstração da dilation da imagem\n",
        "cv2_imshow(opening) #Opening da imagem\n",
        "cv2_imshow(closing) #Closing da imagem\n",
        "cv2_imshow(gradient) #Gradient da imagem\n",
        "\n"
      ],
      "metadata": {
        "id": "iMJ7o6EgVA_r"
      },
      "execution_count": null,
      "outputs": []
    }
  ]
}